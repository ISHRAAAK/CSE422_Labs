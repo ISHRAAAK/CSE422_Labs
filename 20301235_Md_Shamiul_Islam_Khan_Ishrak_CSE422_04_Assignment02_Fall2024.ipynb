{
  "nbformat": 4,
  "nbformat_minor": 0,
  "metadata": {
    "colab": {
      "provenance": [],
      "authorship_tag": "ABX9TyMLH+IluUV9BW8J4yUACrys",
      "include_colab_link": true
    },
    "kernelspec": {
      "name": "python3",
      "display_name": "Python 3"
    },
    "language_info": {
      "name": "python"
    }
  },
  "cells": [
    {
      "cell_type": "markdown",
      "metadata": {
        "id": "view-in-github",
        "colab_type": "text"
      },
      "source": [
        "<a href=\"https://colab.research.google.com/github/ISHRAAAK/CSE422_Labs/blob/main/20301235_Md_Shamiul_Islam_Khan_Ishrak_CSE422_04_Assignment02_Fall2024.ipynb\" target=\"_parent\"><img src=\"https://colab.research.google.com/assets/colab-badge.svg\" alt=\"Open In Colab\"/></a>"
      ]
    },
    {
      "cell_type": "code",
      "execution_count": null,
      "metadata": {
        "colab": {
          "base_uri": "https://localhost:8080/"
        },
        "id": "BhvNnyO5tivS",
        "outputId": "51a13af5-c8cb-49b3-c39f-b470dc8d50c4"
      },
      "outputs": [
        {
          "output_type": "stream",
          "name": "stdout",
          "text": [
            "Enter the number of courses: 3\n",
            "Enter the number of timeslots: 3\n",
            "Enter course code 1: CSE110\n",
            "Enter course code 2: MAT110\n",
            "Enter course code 3: PHY112\n",
            "Best Schedule:  001010100\n",
            "Fitness:  0\n"
          ]
        }
      ],
      "source": [
        "##Ishrak id 20301235\n",
        "\n",
        "#part1\n",
        "import random\n",
        "\n",
        "def calculate_fitness(chromosome, N, T):\n",
        "    overlap_penalty = 0\n",
        "    consistency_penalty = 0\n",
        "\n",
        "    for t in range(T):\n",
        "        timeslot = chromosome[t * N:(t + 1) * N]\n",
        "        overlap_penalty += max(0, sum(timeslot) - 1)\n",
        "\n",
        "\n",
        "    for n in range(N):\n",
        "        course_count = sum(chromosome[n + t * N] for t in range(T))\n",
        "        consistency_penalty += abs(course_count - 1)\n",
        "\n",
        "    total_penalty = overlap_penalty + consistency_penalty\n",
        "    return -total_penalty\n",
        "\n",
        "\n",
        "def select_parents(population):\n",
        "    return random.sample(population, 2)\n",
        "\n",
        "def single_point_crossover(parent1, parent2):\n",
        "    point = random.randint(1, len(parent1) - 1)\n",
        "    offspring1 = parent1[:point] + parent2[point:]\n",
        "    offspring2 = parent2[:point] + parent1[point:]\n",
        "    return offspring1, offspring2\n",
        "\n",
        "\n",
        "def mutate(chromosome, mutation_rate=0.01):\n",
        "    for i in range(len(chromosome)):\n",
        "        if random.random() < mutation_rate:\n",
        "            chromosome[i] = 1 - chromosome[i]\n",
        "    return chromosome\n",
        "\n",
        "\n",
        "def genetic_algorithm(courses, N, T, population_size=100, max_generations=1000):\n",
        "\n",
        "    population = [[random.randint(0, 1) for _ in range(N * T)] for _ in range(population_size)]\n",
        "\n",
        "    for generation in range(max_generations):\n",
        "        fitness_scores = [calculate_fitness(chromosome, N, T) for chromosome in population]\n",
        "\n",
        "        selected_population = [population[i] for i in sorted(range(len(fitness_scores)), key=lambda k: fitness_scores[k], reverse=True)[:population_size // 2]]\n",
        "\n",
        "        next_generation = []\n",
        "        while len(next_generation) < population_size:\n",
        "            parent1, parent2 = select_parents(selected_population)\n",
        "            offspring1, offspring2 = single_point_crossover(parent1, parent2)\n",
        "            next_generation.append(mutate(offspring1))\n",
        "            next_generation.append(mutate(offspring2))\n",
        "\n",
        "        population = next_generation\n",
        "\n",
        "    best_solution = max(population, key=lambda chromosome: calculate_fitness(chromosome, N, T))\n",
        "    best_fitness = calculate_fitness(best_solution, N, T)\n",
        "\n",
        "    return best_solution, best_fitness\n",
        "\n",
        "\n",
        "def main():\n",
        "\n",
        "    N = int(input(\"Enter the number of courses: \"))\n",
        "    T = int(input(\"Enter the number of timeslots: \"))\n",
        "    courses = [input(f\"Enter course code {i+1}: \") for i in range(N)]\n",
        "\n",
        "\n",
        "    best_solution, best_fitness = genetic_algorithm(courses, N, T)\n",
        "    print(\"Best Schedule: \", ''.join(map(str, best_solution)))\n",
        "    print(\"Fitness: \", best_fitness)\n",
        "\n",
        "if __name__ == \"__main__\":\n",
        "    main()"
      ]
    },
    {
      "cell_type": "code",
      "source": [
        "#part2\n",
        "def perform_two_point_crossover(parent1, parent2, crossover_index1, crossover_index2):\n",
        "    child1 = parent1[:crossover_index1] + parent2[crossover_index1:crossover_index2] + parent1[crossover_index2:]\n",
        "    child2 = parent2[:crossover_index1] + parent1[crossover_index1:crossover_index2] + parent2[crossover_index2:]\n",
        "\n",
        "    return child1, child2\n",
        "\n",
        "\n",
        "def demonstrate_crossover():\n",
        "    first_parent = [0, 0, 0, 1, 1, 1, 0, 0, 0]\n",
        "    second_parent = [1, 1, 1, 0, 0, 0, 1, 1, 1]\n",
        "\n",
        "    crossover_point1 = 3\n",
        "    crossover_point2 = 7\n",
        "\n",
        "    offspring_a, offspring_b = perform_two_point_crossover(first_parent, second_parent, crossover_point1, crossover_point2)\n",
        "\n",
        "    print(\"First Parent: \", ''.join(map(str, first_parent)))\n",
        "    print(\"Second Parent: \", ''.join(map(str, second_parent)))\n",
        "    print(\"First Offspring: \", ''.join(map(str, offspring_a)))\n",
        "    print(\"Second Offspring: \", ''.join(map(str, offspring_b)))\n",
        "\n",
        "if __name__ == \"__main__\":\n",
        "    demonstrate_crossover()\n"
      ],
      "metadata": {
        "colab": {
          "base_uri": "https://localhost:8080/"
        },
        "id": "1d8lnq6euJMt",
        "outputId": "23c97dd4-1328-45b9-ae64-0f68740dfe75"
      },
      "execution_count": null,
      "outputs": [
        {
          "output_type": "stream",
          "name": "stdout",
          "text": [
            "First Parent:  000111000\n",
            "Second Parent:  111000111\n",
            "First Offspring:  000000100\n",
            "Second Offspring:  111111011\n"
          ]
        }
      ]
    }
  ]
}