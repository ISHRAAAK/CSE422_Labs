{
  "nbformat": 4,
  "nbformat_minor": 0,
  "metadata": {
    "colab": {
      "provenance": [],
      "authorship_tag": "ABX9TyOz0cmcE19BTqfayiCMb6r+",
      "include_colab_link": true
    },
    "kernelspec": {
      "name": "python3",
      "display_name": "Python 3"
    },
    "language_info": {
      "name": "python"
    }
  },
  "cells": [
    {
      "cell_type": "markdown",
      "metadata": {
        "id": "view-in-github",
        "colab_type": "text"
      },
      "source": [
        "<a href=\"https://colab.research.google.com/github/ISHRAAAK/CSE422_Labs/blob/main/20301235_Md_Shamiul_Islam_Khan_Ishrak_CSE422_04_Assignment01_Fall2024.ipynb\" target=\"_parent\"><img src=\"https://colab.research.google.com/assets/colab-badge.svg\" alt=\"Open In Colab\"/></a>"
      ]
    },
    {
      "cell_type": "code",
      "execution_count": null,
      "metadata": {
        "colab": {
          "base_uri": "https://localhost:8080/"
        },
        "id": "q2aOuVljZFvX",
        "outputId": "cf193d2f-b689-46cc-84bd-d0238c51a15a"
      },
      "outputs": [
        {
          "output_type": "stream",
          "name": "stdout",
          "text": [
            "Drive already mounted at /content/drive; to attempt to forcibly remount, call drive.mount(\"/content/drive\", force_remount=True).\n",
            "Heuristic values:\n",
            "{'Arad': 366, 'Craiova': 160, 'Eforie': 161, 'Fagaras': 176, 'Giurgiu': 77, 'Mehadia': 241, 'Neamt': 234, 'Sibiu': 253, 'Oradea': 380, 'Pitesti': 100, 'RimnicuVilcea': 193, 'Dobreta': 242, 'Hirsova': 151, 'lasi': 226, 'Lugoj': 244, 'Timisoara': 329, 'Urziceni': 80, 'Vaslui': 199, 'Zerind': 374, 'Bucharest': 0}\n",
            "\n",
            "Adjacency list:\n",
            "{'Arad': {'Zerind': 75, 'Timisoara': 118, 'Sibiu': 140}, 'Craiova': {'Dobreta': 120, 'RimnicuVilcea': 146, 'Pitesti': 138}, 'Eforie': {'Hirsova': 86}, 'Fagaras': {'Sibiu': 99, 'Bucharest': 211}, 'Giurgiu': {'Bucharest': 90}, 'Mehadia': {'Lugoj': 70, 'Dobreta': 75}, 'Neamt': {'lasi': 87}, 'Sibiu': {'Oradea': 151, 'Arad': 140, 'RimnicuVilcea': 80, 'Fagaras': 99}, 'Oradea': {'Zerind': 71, 'Sibiu': 151}, 'Pitesti': {'RimnicuVilcea': 97, 'Craiova': 138, 'Bucharest': 101}, 'RimnicuVilcea': {'Sibiu': 80, 'Craiova': 146, 'Pitesti': 97}, 'Dobreta': {'Mehadia': 75, 'Craiova': 120}, 'Hirsova': {'Urziceni': 98, 'Eforie': 86}, 'lasi': {'Vaslui': 92, 'Neamt': 87}, 'Lugoj': {'Timisoara': 111, 'Mehadia': 70}, 'Timisoara': {'Arad': 118, 'Lugoj': 111}, 'Urziceni': {'Bucharest': 85, 'Hirsova': 98, 'Vaslui': 142}, 'Vaslui': {'Urziceni': 142, 'lasi': 92}, 'Zerind': {'Oradea': 71, 'Arad': 75}, 'Bucharest': {'Fagaras': 211, 'Pitesti': 101, 'Giurgiu': 90, 'Urziceni': 85}}\n",
            "Enter the start city: Arad\n",
            "Enter the destination city: Bucharest\n",
            "Shortest path from Arad to Bucharest:\n",
            "Arad -> Sibiu -> RimnicuVilcea -> Pitesti -> Bucharest\n",
            "Total cost: 418\n"
          ]
        }
      ],
      "source": [
        "#ID 20301235\n",
        "#MD.Shamiul Islam Khan Ishrak\n",
        "#sec 4\n",
        "\n",
        "from google.colab import drive\n",
        "drive.mount('/content/drive')\n",
        "\n",
        "file_path = '/content/drive/My Drive/assignment1_Input.txt'\n",
        "with open(file_path, 'r', encoding='utf-8-sig') as f:\n",
        "    text = f.read()\n",
        "#split text to line then to word\n",
        "arr = []\n",
        "file_in = text.split('\\n')\n",
        "for line in file_in:\n",
        "    arr.append(line.split())\n",
        "\n",
        "for sublist in arr:\n",
        "    for i in range(len(sublist)):\n",
        "        if sublist[i].isdigit():\n",
        "            sublist[i] = int(sublist[i])\n",
        "        else:\n",
        "            sublist[i] = sublist[i].strip()\n",
        "\n",
        "heuristic = {}\n",
        "adjacency_list = {}\n",
        "#numeric to integer val\n",
        "\n",
        "for sublist in arr:\n",
        "    if len(sublist) < 2:\n",
        "        continue\n",
        "    node = sublist[0]\n",
        "    heuristic_value = sublist[1]\n",
        "    heuristic[node] = int(heuristic_value)\n",
        "    adjacency_list[node] = {}\n",
        "    for i in range(2, len(sublist) - 1, 2):\n",
        "        neighbor = sublist[i]\n",
        "        cost = sublist[i + 1]\n",
        "        adjacency_list[node][neighbor] = cost\n",
        "print(\"Heuristic values:\")\n",
        "print(heuristic)\n",
        "print(\"\\nAdjacency list:\")\n",
        "print(adjacency_list)\n",
        "#to check parsedata\n",
        "\n",
        "def a_star_search(start, destination):\n",
        "    open_list = [(start, 0)]\n",
        "    closed_list = set()\n",
        "    g_costs = {node: float('inf') for node in heuristic.keys()}\n",
        "    g_costs[start] = 0\n",
        "    parents = {start: (None, 0)}\n",
        "\n",
        "    while open_list:\n",
        "        current_node, current_cost = min(open_list, key=lambda x: x[1])\n",
        "\n",
        "        if current_node == destination:\n",
        "            path = reconstruct_path(parents, start, destination)\n",
        "            total_cost = g_costs[destination]\n",
        "            return path, total_cost\n",
        "\n",
        "        open_list.remove((current_node, current_cost))\n",
        "        closed_list.add(current_node)\n",
        "\n",
        "        for child, cost in adjacency_list[current_node].items():\n",
        "            if child in closed_list:\n",
        "                continue\n",
        "\n",
        "            tentative_g_cost = g_costs[current_node] + cost\n",
        "\n",
        "            if tentative_g_cost < g_costs[child]:\n",
        "                g_costs[child] = tentative_g_cost\n",
        "                parents[child] = (current_node, tentative_g_cost)\n",
        "\n",
        "                f_cost = tentative_g_cost + heuristic[child]\n",
        "\n",
        "                if any(child_node == child for child_node, _ in open_list):\n",
        "                    for i, (child_node, f) in enumerate(open_list):\n",
        "                        if child_node == child and f_cost < f:\n",
        "                            open_list[i] = (child_node, f_cost)\n",
        "                            break\n",
        "                else:\n",
        "                    open_list.append((child, f_cost))\n",
        "\n",
        "    return [], float('inf')\n",
        "\n",
        "def reconstruct_path(parents, start, destination):\n",
        "    path = [destination]\n",
        "    current_node = destination\n",
        "    while current_node != start:\n",
        "        current_node = parents[current_node][0]\n",
        "        path.insert(0, current_node)\n",
        "    return path\n",
        "\n",
        "start_node = input('Enter the start city: ').strip()\n",
        "destination_node = input('Enter the destination city: ').strip()\n",
        "path, total_cost = a_star_search(start_node, destination_node)\n",
        "\n",
        "if path:\n",
        "    print(f\"Shortest path from {start_node} to {destination_node}:\")\n",
        "    print(\" -> \".join(path))\n",
        "    print(f\"Total cost: {total_cost}\")\n",
        "else:\n",
        "    print(f\"No path found from {start_node} to {destination_node}.\")\n"
      ]
    }
  ]
}